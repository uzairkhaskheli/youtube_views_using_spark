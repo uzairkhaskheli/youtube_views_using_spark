{
 "cells": [
  {
   "cell_type": "code",
   "execution_count": 1,
   "id": "17225b93-50a8-4f39-92de-61dde8041ada",
   "metadata": {},
   "outputs": [],
   "source": [
    "import pyspark\n",
    "from pyspark import SparkContext, SparkConf\n",
    "from pyspark.sql import SparkSession\n",
    "import pandas as pd\n",
    "from pyspark.sql.functions import col,max,count,sum,mean,stddev_pop,hour,countDistinct,expr,stddev,window,column\n",
    "from pyspark.ml.feature import RFormula\n",
    "from pyspark.ml.classification import LogisticRegression\n",
    "from pyspark.sql import Row\n",
    "import math"
   ]
  },
  {
   "cell_type": "code",
   "execution_count": 2,
   "id": "8ce6df36-03a8-43f5-8185-846393a196a5",
   "metadata": {},
   "outputs": [],
   "source": [
    "# sc.stop()\n",
    "\n",
    "# Initialization of SparkConf which is required for Spark Context\n",
    "conf = SparkConf().setAppName('myapp').setMaster('local')\n",
    "\n",
    "# Initialization of SparkContext\n",
    "sc = SparkContext().getOrCreate(conf=conf)\n",
    "sc.setLogLevel(\"OFF\")\n",
    "\n",
    "# Initialization of SparkSession into spark variable\n",
    "spark = SparkSession(sc)"
   ]
  },
  {
   "cell_type": "markdown",
   "id": "f22452c3-4f5a-4f0f-a788-a160d4f45012",
   "metadata": {},
   "source": [
    "### You are asked to select only the following columns: \"video_id\", \"trending_date\", \"title\", \"views\", into a new dataframe."
   ]
  },
  {
   "cell_type": "code",
   "execution_count": 3,
   "id": "d91088ff-7f2d-4b60-a9ee-f8844e14687f",
   "metadata": {
    "scrolled": true
   },
   "outputs": [
    {
     "name": "stdout",
     "output_type": "stream",
     "text": [
      "+--------+-------------+--------------------+-----+\n",
      "|video_id|trending_date|               title|views|\n",
      "+--------+-------------+--------------------+-----+\n",
      "|       1|            4|  Goodbye First Love|  560|\n",
      "|       2|            7|       Club Sandwich|  451|\n",
      "|       3|           10|      Situation, The|  773|\n",
      "|       4|            5|          Mine Games|  165|\n",
      "|       5|            4|     Laws of Gravity|  559|\n",
      "|       6|            3|Official Story, T...|  430|\n",
      "|       7|           12|          Restaurant|  940|\n",
      "|       8|            2|          Dead Birds|  613|\n",
      "|       9|            2|         Signal, The|  759|\n",
      "|      10|           11|You Were Never Lo...|  108|\n",
      "|      11|            1|        Wholly Moses|  254|\n",
      "|      12|            8|       Firehouse Dog|  316|\n",
      "|      13|            2|        House of Wax|  858|\n",
      "|      14|           11|Half Moon (a.k.a....|  934|\n",
      "|      15|            4|        Spider-Man 3|  921|\n",
      "|      16|           10|         Wall Street|  826|\n",
      "|      17|           11|Loose Change: Sec...|  173|\n",
      "|      18|            4|Other End of the ...|  512|\n",
      "|      19|            7|     Ghostbusters II|  181|\n",
      "|      20|            3|           3 Strikes|  735|\n",
      "+--------+-------------+--------------------+-----+\n",
      "\n"
     ]
    }
   ],
   "source": [
    "dataframe = spark.read.csv('Video_Statistics.csv', header=True, inferSchema=True)\n",
    "videoStats = dataframe.select(\"video_id\", \"trending_date\", \"title\", \"views\")\n",
    "# videoStats.show()\n",
    "videoStats = dataframe[\"video_id\", \"trending_date\", \"title\", \"views\"]\n",
    "videoStats.show()"
   ]
  },
  {
   "cell_type": "markdown",
   "id": "bab50897-9a2a-4b27-936d-73a45a7a571d",
   "metadata": {},
   "source": [
    "### Now after selecting the columns we are interested in, we would like to create a new column inside \"videoStats\" dataframe with the name \"new\" that contains the views divided by 100."
   ]
  },
  {
   "cell_type": "code",
   "execution_count": 4,
   "id": "0ec021e8-b7ab-4fd6-9ec6-08c04cea5969",
   "metadata": {},
   "outputs": [
    {
     "name": "stdout",
     "output_type": "stream",
     "text": [
      "+--------+-------------+--------------------+-----+---------+\n",
      "|video_id|trending_date|               title|views|New_Views|\n",
      "+--------+-------------+--------------------+-----+---------+\n",
      "|       1|            4|  Goodbye First Love|  560|      5.6|\n",
      "|       2|            7|       Club Sandwich|  451|     4.51|\n",
      "|       3|           10|      Situation, The|  773|     7.73|\n",
      "|       4|            5|          Mine Games|  165|     1.65|\n",
      "|       5|            4|     Laws of Gravity|  559|     5.59|\n",
      "|       6|            3|Official Story, T...|  430|      4.3|\n",
      "|       7|           12|          Restaurant|  940|      9.4|\n",
      "|       8|            2|          Dead Birds|  613|     6.13|\n",
      "|       9|            2|         Signal, The|  759|     7.59|\n",
      "|      10|           11|You Were Never Lo...|  108|     1.08|\n",
      "|      11|            1|        Wholly Moses|  254|     2.54|\n",
      "|      12|            8|       Firehouse Dog|  316|     3.16|\n",
      "|      13|            2|        House of Wax|  858|     8.58|\n",
      "|      14|           11|Half Moon (a.k.a....|  934|     9.34|\n",
      "|      15|            4|        Spider-Man 3|  921|     9.21|\n",
      "|      16|           10|         Wall Street|  826|     8.26|\n",
      "|      17|           11|Loose Change: Sec...|  173|     1.73|\n",
      "|      18|            4|Other End of the ...|  512|     5.12|\n",
      "|      19|            7|     Ghostbusters II|  181|     1.81|\n",
      "|      20|            3|           3 Strikes|  735|     7.35|\n",
      "+--------+-------------+--------------------+-----+---------+\n",
      "\n"
     ]
    }
   ],
   "source": [
    "# videoStats = videoStats.withColumn('new', col('views')/100)\n",
    "# videoStats.show()\n",
    "videoStats = videoStats.select(\"*\",(col(\"Views\")/100)).withColumnRenamed(\"(Views / 100)\",\"New_Views\")\n",
    "videoStats.show()"
   ]
  },
  {
   "cell_type": "markdown",
   "id": "51144464-b645-407a-b2ab-94c4fb53b8e9",
   "metadata": {},
   "source": [
    "### Please write the line of code to calculate the mean of the views"
   ]
  },
  {
   "cell_type": "code",
   "execution_count": 5,
   "id": "3f489d04-90d1-4815-a2f2-29a152ea82e0",
   "metadata": {},
   "outputs": [
    {
     "name": "stdout",
     "output_type": "stream",
     "text": [
      "+----------+\n",
      "|Mean_Views|\n",
      "+----------+\n",
      "|     553.4|\n",
      "+----------+\n",
      "\n"
     ]
    }
   ],
   "source": [
    "videoStats.select(mean('views').alias(\"Mean_Views\")).show()"
   ]
  },
  {
   "cell_type": "markdown",
   "id": "ef6f1de0-0d38-4df9-80a9-9561dd5143ae",
   "metadata": {},
   "source": [
    "### Please write the line of code to calculate the standard deviation of the population of the views"
   ]
  },
  {
   "cell_type": "code",
   "execution_count": 6,
   "id": "1865eec0-9ddc-4edc-8a42-310af7d43827",
   "metadata": {},
   "outputs": [
    {
     "name": "stdout",
     "output_type": "stream",
     "text": [
      "+-----------------------------+\n",
      "|Standard Deviation Population|\n",
      "+-----------------------------+\n",
      "|            276.5580228451165|\n",
      "+-----------------------------+\n",
      "\n"
     ]
    }
   ],
   "source": [
    "videoStats.select(stddev_pop('views').alias('Standard Deviation Population')).show()\n",
    "# videoStats.select(stddev('views').alias('Standard Deviation Normal')).show()"
   ]
  },
  {
   "cell_type": "markdown",
   "id": "c10edefe-9e94-4231-842e-970569026af9",
   "metadata": {},
   "source": [
    "### Please write the line of code to find the maximum of the views"
   ]
  },
  {
   "cell_type": "code",
   "execution_count": 7,
   "id": "9441dd3a-cd2e-420c-b7e0-13c8b420e57e",
   "metadata": {},
   "outputs": [
    {
     "name": "stdout",
     "output_type": "stream",
     "text": [
      "+---------+------------+----------+\n",
      "|Max Views|Sum_Of_Views|Mean_Views|\n",
      "+---------+------------+----------+\n",
      "|      940|       11068|     553.4|\n",
      "+---------+------------+----------+\n",
      "\n"
     ]
    }
   ],
   "source": [
    "videoStats.select(max('views').alias('Max Views'),sum('views').alias('Sum_Of_Views'),mean('views').alias('Mean_Views')).show()\n"
   ]
  },
  {
   "cell_type": "markdown",
   "id": "50c88e02-3889-45ca-87d5-e39f60993335",
   "metadata": {},
   "source": [
    "### Group the dataframe by the \"trending_date\" column and aggregate by the mean of the \"views\" column. The result should be put in a new dataframe named \"videoStatGroup\""
   ]
  },
  {
   "cell_type": "code",
   "execution_count": 8,
   "id": "8af9d993-062b-4d1f-b40e-d8b8a2c6063d",
   "metadata": {},
   "outputs": [
    {
     "name": "stdout",
     "output_type": "stream",
     "text": [
      "+-------------+-----------------+\n",
      "|trending_date|       avg(views)|\n",
      "+-------------+-----------------+\n",
      "|           12|            940.0|\n",
      "|            1|            254.0|\n",
      "|            3|            582.5|\n",
      "|            5|            165.0|\n",
      "|            4|            638.0|\n",
      "|            8|            316.0|\n",
      "|            7|            316.0|\n",
      "|           10|            799.5|\n",
      "|           11|            405.0|\n",
      "|            2|743.3333333333334|\n",
      "+-------------+-----------------+\n",
      "\n"
     ]
    }
   ],
   "source": [
    "videoStatGroup = videoStats.groupby('trending_date').agg(mean('views'))\n",
    "# videoStatGroup = videoStats.groupby('trending_date').mean('views')\n",
    "# videoStatGroup = videoStats.groupby('trending_date').sum('views')\n",
    "# videoStatGroup = videoStats.groupby('trending_date','title').sum('views')\n",
    "videoStatGroup.show()"
   ]
  }
 ],
 "metadata": {
  "kernelspec": {
   "display_name": "Python 3 (ipykernel)",
   "language": "python",
   "name": "python3"
  },
  "language_info": {
   "codemirror_mode": {
    "name": "ipython",
    "version": 3
   },
   "file_extension": ".py",
   "mimetype": "text/x-python",
   "name": "python",
   "nbconvert_exporter": "python",
   "pygments_lexer": "ipython3",
   "version": "3.9.7"
  }
 },
 "nbformat": 4,
 "nbformat_minor": 5
}
